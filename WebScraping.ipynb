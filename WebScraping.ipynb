{
  "nbformat": 4,
  "nbformat_minor": 0,
  "metadata": {
    "colab": {
      "provenance": [],
      "authorship_tag": "ABX9TyOcuw9z9ftLwX3S9yCNRt+R",
      "include_colab_link": true
    },
    "kernelspec": {
      "name": "python3",
      "display_name": "Python 3"
    },
    "language_info": {
      "name": "python"
    }
  },
  "cells": [
    {
      "cell_type": "markdown",
      "metadata": {
        "id": "view-in-github",
        "colab_type": "text"
      },
      "source": [
        "<a href=\"https://colab.research.google.com/github/rezar12/ANN/blob/master/WebScraping.ipynb\" target=\"_parent\"><img src=\"https://colab.research.google.com/assets/colab-badge.svg\" alt=\"Open In Colab\"/></a>"
      ]
    },
    {
      "cell_type": "markdown",
      "source": [
        "## WEBSCRAPING EDUCARIERE"
      ],
      "metadata": {
        "id": "52cJR87Cu9xD"
      }
    },
    {
      "cell_type": "markdown",
      "source": [
        "#### INSTALL DES MODULES"
      ],
      "metadata": {
        "id": "rmJx0PqHvGXI"
      }
    },
    {
      "cell_type": "markdown",
      "source": [
        "##### RAPPEL :\n",
        "une page web n'est qu'une achitecture de balise \"<\"div\">\" \"<\"/div\">\" \"<\"ul\">\" \"<\"/ul\">\" \"<\"a\">\" \"<\"/a\">\" ..."
      ],
      "metadata": {
        "id": "ZPSA6nxpvV-0"
      }
    },
    {
      "cell_type": "code",
      "execution_count": 2,
      "metadata": {
        "colab": {
          "base_uri": "https://localhost:8080/"
        },
        "id": "boEyP5ilukUY",
        "outputId": "c7c72bc9-f6b8-4f53-87f3-b1767e60e747"
      },
      "outputs": [
        {
          "output_type": "stream",
          "name": "stdout",
          "text": [
            "Looking in indexes: https://pypi.org/simple, https://us-python.pkg.dev/colab-wheels/public/simple/\n",
            "Requirement already satisfied: BeautifulSoup4 in /usr/local/lib/python3.8/dist-packages (4.6.3)\n",
            "Requirement already satisfied: Requests in /usr/local/lib/python3.8/dist-packages (2.23.0)\n",
            "Requirement already satisfied: lxml in /usr/local/lib/python3.8/dist-packages (4.9.1)\n",
            "Requirement already satisfied: urllib3!=1.25.0,!=1.25.1,<1.26,>=1.21.1 in /usr/local/lib/python3.8/dist-packages (from Requests) (1.24.3)\n",
            "Requirement already satisfied: chardet<4,>=3.0.2 in /usr/local/lib/python3.8/dist-packages (from Requests) (3.0.4)\n",
            "Requirement already satisfied: idna<3,>=2.5 in /usr/local/lib/python3.8/dist-packages (from Requests) (2.10)\n",
            "Requirement already satisfied: certifi>=2017.4.17 in /usr/local/lib/python3.8/dist-packages (from Requests) (2022.9.24)\n"
          ]
        }
      ],
      "source": [
        "! pip install BeautifulSoup4 Requests lxml"
      ]
    },
    {
      "cell_type": "code",
      "source": [
        "# importation des librairies\n",
        "import requests\n",
        "from bs4 import BeautifulSoup\n",
        "import pandas as pd"
      ],
      "metadata": {
        "id": "DBigq0fsv7PP"
      },
      "execution_count": 3,
      "outputs": []
    },
    {
      "cell_type": "markdown",
      "source": [
        "premiere observation sur la page a scraper :  \n",
        "- elle est doté d'un menu deroulant [1..45] visible dans le lien \"page1=0\" pour dire page 1 e.i \"page1=44\" est la 45 eme page ...\n",
        "- les informations que nous recherchons se trouve sur un autre lien pour cela on decide que sur la premiere page on ne scrape que le lien qui nous envois sur le lien de description de l'emploi ...\n"
      ],
      "metadata": {
        "id": "NSt2BKZJzghU"
      }
    },
    {
      "cell_type": "code",
      "source": [
        "# lien de la page \n",
        "url = 'https://emploi.educarriere.ci/nos-offres?page1=0&page=offres&codes=&typeemploi1=&niveau1=&mots_cles=&anciennete=&typeoffre1=&recruteur='\n",
        "# Create object page\n",
        "page = requests.get(url)"
      ],
      "metadata": {
        "id": "pf9cPt7hv-sW"
      },
      "execution_count": 8,
      "outputs": []
    },
    {
      "cell_type": "code",
      "source": [
        "soup = BeautifulSoup(page.text, 'lxml')"
      ],
      "metadata": {
        "id": "W8FT6iWvwIud"
      },
      "execution_count": 9,
      "outputs": []
    },
    {
      "cell_type": "code",
      "source": [
        "soup"
      ],
      "metadata": {
        "id": "8tMEQy4bwQbN"
      },
      "execution_count": null,
      "outputs": []
    },
    {
      "cell_type": "code",
      "source": [
        "allh4=soup.find_all('h4')"
      ],
      "metadata": {
        "id": "439ZE_Z92S9_"
      },
      "execution_count": 16,
      "outputs": []
    },
    {
      "cell_type": "code",
      "source": [
        "allh4"
      ],
      "metadata": {
        "colab": {
          "base_uri": "https://localhost:8080/"
        },
        "id": "1b3s2HgP5KAU",
        "outputId": "6dad1f1c-abc2-494e-f2d3-e6f3fa47713e"
      },
      "execution_count": 24,
      "outputs": [
        {
          "output_type": "execute_result",
          "data": {
            "text/plain": [
              "[<h4><a href=\"https://emploi.educarriere.ci/offre-96597-technico-commercial.html\">TECHNICO COMMERCIAL</a></h4>,\n",
              " <h4><a href=\"https://emploi.educarriere.ci/offre-96596-agent-de-securite.html\">AGENT DE SECURITE</a></h4>,\n",
              " <h4><a href=\"https://emploi.educarriere.ci/offre-96595-avis-a-candidature-pour-le-recrutement-des-directeurs-ou-directeurs-generaux-des-etablissements-publics-hospitaliers-nationaux-specialises.html\">AVIS À CANDIDATURE POUR LE RECRUTEMENT DES DIRECTEURS OU DIRECTEURS GÉNÉRAUX DES ETABLISSEMENTS PUBLICS HOSPITALIERS NATIONAUX SPÉCIALISÉS</a></h4>,\n",
              " <h4><a href=\"https://emploi.educarriere.ci/offre-96594-metallurgiste-junior.html\">METALLURGISTE JUNIOR</a></h4>,\n",
              " <h4><a href=\"https://emploi.educarriere.ci/offre-96593-assistant-qualite.html\">ASSISTANT QUALITE</a></h4>,\n",
              " <h4><a href=\"https://emploi.educarriere.ci/offre-96592-pharmacien-hospitalier.html\">PHARMACIEN HOSPITALIER</a></h4>,\n",
              " <h4><a href=\"https://emploi.educarriere.ci/offre-96591-superviseure-en-imprimerie.html\">SUPERVISEURE EN IMPRIMERIE</a></h4>,\n",
              " <h4><a href=\"https://emploi.educarriere.ci/offre-96590-technicien-solaire-sachant-conduire.html\">TECHNICIEN SOLAIRE SACHANT CONDUIRE</a></h4>,\n",
              " <h4><a href=\"https://emploi.educarriere.ci/offre-96589-comptable.html\">COMPTABLE</a></h4>,\n",
              " <h4><a href=\"https://emploi.educarriere.ci/offre-96588-stagiaire-en-batiment-ou-travaux-publics.html\">STAGIAIRE EN BATIMENT OU TRAVAUX PUBLICS</a></h4>,\n",
              " <h4><a href=\"https://emploi.educarriere.ci/offre-96587-conseillers-clients.html\">CONSEILLERS CLIENTS</a></h4>,\n",
              " <h4><a href=\"https://emploi.educarriere.ci/offre-96586-distributeur-revendeur-independant-pour-manix.html\">DISTRIBUTEUR REVENDEUR INDEPENDANT POUR MANIX</a></h4>,\n",
              " <h4><a href=\"https://emploi.educarriere.ci/offre-96585-business-developer.html\">BUSINESS DEVELOPER</a></h4>,\n",
              " <h4><a href=\"https://emploi.educarriere.ci/offre-96584-assistante-de-direction-bilingue.html\">ASSISTANTE DE DIRECTION BILINGUE</a></h4>,\n",
              " <h4><a href=\"https://emploi.educarriere.ci/offre-96583-promoteur-de-vente.html\">PROMOTEUR DE VENTE</a></h4>,\n",
              " <h4><a href=\"http://services.educarriere.ci/appelsdoffres\" style=\"color:#134579; font-weight:900;font-size:12px;\"><i class=\"fa fa-camera\"></i> Voir tous les \tappels d'offre</a></h4>]"
            ]
          },
          "metadata": {},
          "execution_count": 24
        }
      ]
    },
    {
      "cell_type": "code",
      "source": [
        "allhref = []\n",
        "for el in allh4:\n",
        "  xml_soup = BeautifulSoup(str(el))\n",
        "  href=xml_soup.find_all('a',href=True)\n",
        "  allhref.append(href[0]['href'])\n",
        "  "
      ],
      "metadata": {
        "id": "Hnn03lKu4kGo"
      },
      "execution_count": 29,
      "outputs": []
    },
    {
      "cell_type": "code",
      "source": [
        "allhref"
      ],
      "metadata": {
        "colab": {
          "base_uri": "https://localhost:8080/"
        },
        "id": "vjsnkl7CJMhV",
        "outputId": "5b87b4c6-7ade-4d16-d9a9-f28c0f7d1052"
      },
      "execution_count": 75,
      "outputs": [
        {
          "output_type": "execute_result",
          "data": {
            "text/plain": [
              "['https://emploi.educarriere.ci/offre-96597-technico-commercial.html',\n",
              " 'https://emploi.educarriere.ci/offre-96596-agent-de-securite.html',\n",
              " 'https://emploi.educarriere.ci/offre-96595-avis-a-candidature-pour-le-recrutement-des-directeurs-ou-directeurs-generaux-des-etablissements-publics-hospitaliers-nationaux-specialises.html',\n",
              " 'https://emploi.educarriere.ci/offre-96594-metallurgiste-junior.html',\n",
              " 'https://emploi.educarriere.ci/offre-96593-assistant-qualite.html',\n",
              " 'https://emploi.educarriere.ci/offre-96592-pharmacien-hospitalier.html',\n",
              " 'https://emploi.educarriere.ci/offre-96591-superviseure-en-imprimerie.html',\n",
              " 'https://emploi.educarriere.ci/offre-96590-technicien-solaire-sachant-conduire.html',\n",
              " 'https://emploi.educarriere.ci/offre-96589-comptable.html',\n",
              " 'https://emploi.educarriere.ci/offre-96588-stagiaire-en-batiment-ou-travaux-publics.html',\n",
              " 'https://emploi.educarriere.ci/offre-96587-conseillers-clients.html',\n",
              " 'https://emploi.educarriere.ci/offre-96586-distributeur-revendeur-independant-pour-manix.html',\n",
              " 'https://emploi.educarriere.ci/offre-96585-business-developer.html',\n",
              " 'https://emploi.educarriere.ci/offre-96584-assistante-de-direction-bilingue.html',\n",
              " 'https://emploi.educarriere.ci/offre-96583-promoteur-de-vente.html']"
            ]
          },
          "metadata": {},
          "execution_count": 75
        }
      ]
    },
    {
      "cell_type": "code",
      "source": [
        "allhref=allhref[:-1]"
      ],
      "metadata": {
        "id": "ULTj_3zP7HNU"
      },
      "execution_count": 33,
      "outputs": []
    },
    {
      "cell_type": "code",
      "source": [
        "allul = []\n",
        "for link in allhref:\n",
        "  emploiDesPage = requests.get(link)\n",
        "  pageStruct = BeautifulSoup(emploiDesPage.text, 'lxml')\n",
        "  allul.append(BeautifulSoup(str(pageStruct.find_all('ul','list-group')[1]),'lxml'))"
      ],
      "metadata": {
        "id": "BjzqHBzs7WLN"
      },
      "execution_count": 40,
      "outputs": []
    },
    {
      "cell_type": "code",
      "source": [
        "allul"
      ],
      "metadata": {
        "colab": {
          "base_uri": "https://localhost:8080/"
        },
        "id": "FllcqvSUEmUG",
        "outputId": "f4c9f475-f818-41b9-b235-8b4fb143db2a"
      },
      "execution_count": 64,
      "outputs": [
        {
          "output_type": "execute_result",
          "data": {
            "text/plain": [
              "[<html><body><ul class=\"list-group\">\n",
              " <li class=\"list-group-item\"><strong>Poste :</strong> TECHNICO COMMERCIAL</li>\n",
              " <li class=\"list-group-item\"><strong>Type d'offre :</strong> Stage</li>\n",
              " <li class=\"list-group-item\"><strong>Métier(s):</strong> Commerce/Ventes, Informatique</li>\n",
              " <li class=\"list-group-item\"><strong>Niveau(x):</strong> BAC+2</li>\n",
              " <li class=\"list-group-item\"><strong>Expérience:</strong> 1 à 2 ans</li>\n",
              " <li class=\"list-group-item\"><strong>Lieu:</strong> Côte d'Ivoire</li>\n",
              " <li class=\"list-group-item\"><strong>Date de publication:</strong> <span style=\"color:#F00;\">05/12/2022</span></li>\n",
              " <li class=\"list-group-item\"><strong>Date limite:</strong> <span style=\"color:#F00;\">10/12/2022</span></li>\n",
              " </ul></body></html>, <html><body><ul class=\"list-group\">\n",
              " <li class=\"list-group-item\"><strong>Poste :</strong> AGENT DE SECURITE</li>\n",
              " <li class=\"list-group-item\"><strong>Type d'offre :</strong> Emploi</li>\n",
              " <li class=\"list-group-item\"><strong>Métier(s):</strong> Sécurité/Défense</li>\n",
              " <li class=\"list-group-item\"><strong>Niveau(x):</strong> Terminale, Première, Seconde, BEPC, Troisième, Sixième, BAC, BT</li>\n",
              " <li class=\"list-group-item\"><strong>Expérience:</strong>  1 ans</li>\n",
              " <li class=\"list-group-item\"><strong>Lieu:</strong> COCODY ANGRE 9E TRANCHE CITE STAR 12</li>\n",
              " <li class=\"list-group-item\"><strong>Date de publication:</strong> <span style=\"color:#F00;\">05/12/2022</span></li>\n",
              " <li class=\"list-group-item\"><strong>Date limite:</strong> <span style=\"color:#F00;\">12/12/2022</span></li>\n",
              " </ul></body></html>, <html><body><ul class=\"list-group\">\n",
              " <li class=\"list-group-item\"><strong>Poste :</strong> AVIS À CANDIDATURE POUR LE RECRUTEMENT DES DIRECTEURS OU DIRECTEURS GÉNÉRAUX DES ETABLISSEMENTS PUBLICS HOSPITALIERS NATIONAUX SPÉCIALISÉS</li>\n",
              " <li class=\"list-group-item\"><strong>Type d'offre :</strong> Emploi (CDD)</li>\n",
              " <li class=\"list-group-item\"><strong>Métier(s):</strong> Economie, Gestion, Médecine/Santé</li>\n",
              " <li class=\"list-group-item\"><strong>Niveau(x):</strong> BAC+5, BAC+6, BAC+7 et plus</li>\n",
              " <li class=\"list-group-item\"><strong>Expérience:</strong> Minimum 10 ans</li>\n",
              " <li class=\"list-group-item\"><strong>Lieu:</strong> Côte d'Ivoire</li>\n",
              " <li class=\"list-group-item\"><strong>Date de publication:</strong> <span style=\"color:#F00;\">03/12/2022</span></li>\n",
              " <li class=\"list-group-item\"><strong>Date limite:</strong> <span style=\"color:#F00;\">12/12/2022</span></li>\n",
              " </ul></body></html>, <html><body><ul class=\"list-group\">\n",
              " <li class=\"list-group-item\"><strong>Poste :</strong> METALLURGISTE JUNIOR</li>\n",
              " <li class=\"list-group-item\"><strong>Type d'offre :</strong> Emploi</li>\n",
              " <li class=\"list-group-item\"><strong>Métier(s):</strong> Chimie</li>\n",
              " <li class=\"list-group-item\"><strong>Niveau(x):</strong> BAC+3</li>\n",
              " <li class=\"list-group-item\"><strong>Expérience:</strong> Minimum 3 ans</li>\n",
              " <li class=\"list-group-item\"><strong>Lieu:</strong> Ity</li>\n",
              " <li class=\"list-group-item\"><strong>Date de publication:</strong> <span style=\"color:#F00;\">03/12/2022</span></li>\n",
              " <li class=\"list-group-item\"><strong>Date limite:</strong> <span style=\"color:#F00;\">11/12/2022</span></li>\n",
              " </ul></body></html>, <html><body><ul class=\"list-group\">\n",
              " <li class=\"list-group-item\"><strong>Poste :</strong> ASSISTANT QUALITE</li>\n",
              " <li class=\"list-group-item\"><strong>Type d'offre :</strong> Emploi</li>\n",
              " <li class=\"list-group-item\"><strong>Métier(s):</strong> Qualité</li>\n",
              " <li class=\"list-group-item\"><strong>Niveau(x):</strong> BAC+2, BAC+3</li>\n",
              " <li class=\"list-group-item\"><strong>Expérience:</strong>  2 ans</li>\n",
              " <li class=\"list-group-item\"><strong>Lieu:</strong> CLINIQUE LA PROVIDENCE - RUE DU LYCEE TECHNIQUE - COCODY DANGA</li>\n",
              " <li class=\"list-group-item\"><strong>Date de publication:</strong> <span style=\"color:#F00;\">03/12/2022</span></li>\n",
              " <li class=\"list-group-item\"><strong>Date limite:</strong> <span style=\"color:#F00;\">13/12/2022</span></li>\n",
              " </ul></body></html>, <html><body><ul class=\"list-group\">\n",
              " <li class=\"list-group-item\"><strong>Poste :</strong> PHARMACIEN HOSPITALIER</li>\n",
              " <li class=\"list-group-item\"><strong>Type d'offre :</strong> Emploi</li>\n",
              " <li class=\"list-group-item\"><strong>Métier(s):</strong> Pharmacie</li>\n",
              " <li class=\"list-group-item\"><strong>Niveau(x):</strong> BAC+6</li>\n",
              " <li class=\"list-group-item\"><strong>Expérience:</strong>  2 ans</li>\n",
              " <li class=\"list-group-item\"><strong>Lieu:</strong> CLINIQUE LA PROVIDENCE - RUE DU LYCEE TECHNIQUE COCODY DANGA</li>\n",
              " <li class=\"list-group-item\"><strong>Date de publication:</strong> <span style=\"color:#F00;\">03/12/2022</span></li>\n",
              " <li class=\"list-group-item\"><strong>Date limite:</strong> <span style=\"color:#F00;\">15/12/2022</span></li>\n",
              " </ul></body></html>, <html><body><ul class=\"list-group\">\n",
              " <li class=\"list-group-item\"><strong>Poste :</strong> SUPERVISEURE EN IMPRIMERIE</li>\n",
              " <li class=\"list-group-item\"><strong>Type d'offre :</strong> Emploi</li>\n",
              " <li class=\"list-group-item\"><strong>Métier(s):</strong> Commerce/Ventes, Communication, Imprimerie</li>\n",
              " <li class=\"list-group-item\"><strong>Niveau(x):</strong> BAC+2</li>\n",
              " <li class=\"list-group-item\"><strong>Expérience:</strong>  2 ans</li>\n",
              " <li class=\"list-group-item\"><strong>Lieu:</strong> Riviera Palmeraie</li>\n",
              " <li class=\"list-group-item\"><strong>Date de publication:</strong> <span style=\"color:#F00;\">03/12/2022</span></li>\n",
              " <li class=\"list-group-item\"><strong>Date limite:</strong> <span style=\"color:#F00;\">12/12/2022</span></li>\n",
              " </ul></body></html>, <html><body><ul class=\"list-group\">\n",
              " <li class=\"list-group-item\"><strong>Poste :</strong> TECHNICIEN SOLAIRE SACHANT CONDUIRE</li>\n",
              " <li class=\"list-group-item\"><strong>Type d'offre :</strong> Emploi</li>\n",
              " <li class=\"list-group-item\"><strong>Métier(s):</strong> Electrotechnique/Electricité, Energétique</li>\n",
              " <li class=\"list-group-item\"><strong>Niveau(x):</strong> BAC+2</li>\n",
              " <li class=\"list-group-item\"><strong>Expérience:</strong>  3 ans</li>\n",
              " <li class=\"list-group-item\"><strong>Lieu:</strong> Cocody</li>\n",
              " <li class=\"list-group-item\"><strong>Date de publication:</strong> <span style=\"color:#F00;\">03/12/2022</span></li>\n",
              " <li class=\"list-group-item\"><strong>Date limite:</strong> <span style=\"color:#F00;\">18/12/2022</span></li>\n",
              " </ul></body></html>, <html><body><ul class=\"list-group\">\n",
              " <li class=\"list-group-item\"><strong>Poste :</strong> COMPTABLE</li>\n",
              " <li class=\"list-group-item\"><strong>Type d'offre :</strong> Emploi</li>\n",
              " <li class=\"list-group-item\"><strong>Métier(s):</strong> Finances/Comptabilité</li>\n",
              " <li class=\"list-group-item\"><strong>Niveau(x):</strong> BAC+4</li>\n",
              " <li class=\"list-group-item\"><strong>Expérience:</strong>  5 ans</li>\n",
              " <li class=\"list-group-item\"><strong>Lieu:</strong> ABIDJAN/ DABOU/ GRAND BASSAM/ SAN PEDRO</li>\n",
              " <li class=\"list-group-item\"><strong>Date de publication:</strong> <span style=\"color:#F00;\">03/12/2022</span></li>\n",
              " <li class=\"list-group-item\"><strong>Date limite:</strong> <span style=\"color:#F00;\">10/12/2022</span></li>\n",
              " </ul></body></html>, <html><body><ul class=\"list-group\">\n",
              " <li class=\"list-group-item\"><strong>Poste :</strong> STAGIAIRE EN BATIMENT OU TRAVAUX PUBLICS</li>\n",
              " <li class=\"list-group-item\"><strong>Type d'offre :</strong> Stage</li>\n",
              " <li class=\"list-group-item\"><strong>Métier(s):</strong> Bâtiment, Génie Civil/Travaux publics</li>\n",
              " <li class=\"list-group-item\"><strong>Niveau(x):</strong> BAC+2</li>\n",
              " <li class=\"list-group-item\"><strong>Expérience:</strong> </li>\n",
              " <li class=\"list-group-item\"><strong>Lieu:</strong> Côte d'Ivoire</li>\n",
              " <li class=\"list-group-item\"><strong>Date de publication:</strong> <span style=\"color:#F00;\">03/12/2022</span></li>\n",
              " <li class=\"list-group-item\"><strong>Date limite:</strong> <span style=\"color:#F00;\">12/12/2022</span></li>\n",
              " </ul></body></html>, <html><body><ul class=\"list-group\">\n",
              " <li class=\"list-group-item\"><strong>Poste :</strong> CONSEILLERS CLIENTS</li>\n",
              " <li class=\"list-group-item\"><strong>Type d'offre :</strong> Emploi</li>\n",
              " <li class=\"list-group-item\"><strong>Métier(s):</strong> Commerce/Ventes, Communication, Marketing</li>\n",
              " <li class=\"list-group-item\"><strong>Niveau(x):</strong> BAC+2</li>\n",
              " <li class=\"list-group-item\"><strong>Expérience:</strong>  1 ans</li>\n",
              " <li class=\"list-group-item\"><strong>Lieu:</strong> Côte d'Ivoire</li>\n",
              " <li class=\"list-group-item\"><strong>Date de publication:</strong> <span style=\"color:#F00;\">03/12/2022</span></li>\n",
              " <li class=\"list-group-item\"><strong>Date limite:</strong> <span style=\"color:#F00;\">16/12/2022</span></li>\n",
              " </ul></body></html>, <html><body><ul class=\"list-group\">\n",
              " <li class=\"list-group-item\"><strong>Poste :</strong> DISTRIBUTEUR REVENDEUR INDEPENDANT POUR MANIX</li>\n",
              " <li class=\"list-group-item\"><strong>Type d'offre :</strong> Freelance</li>\n",
              " <li class=\"list-group-item\"><strong>Métier(s):</strong> Commerce/Ventes</li>\n",
              " <li class=\"list-group-item\"><strong>Niveau(x):</strong> BAC+1</li>\n",
              " <li class=\"list-group-item\"><strong>Expérience:</strong> </li>\n",
              " <li class=\"list-group-item\"><strong>Lieu:</strong> Côte d'Ivoire</li>\n",
              " <li class=\"list-group-item\"><strong>Date de publication:</strong> <span style=\"color:#F00;\">03/12/2022</span></li>\n",
              " <li class=\"list-group-item\"><strong>Date limite:</strong> <span style=\"color:#F00;\">20/12/2022</span></li>\n",
              " </ul></body></html>, <html><body><ul class=\"list-group\">\n",
              " <li class=\"list-group-item\"><strong>Poste :</strong> BUSINESS DEVELOPER</li>\n",
              " <li class=\"list-group-item\"><strong>Type d'offre :</strong> Emploi</li>\n",
              " <li class=\"list-group-item\"><strong>Métier(s):</strong> Commerce et Administration des Entreprises, Commerce/Ventes, Communication, Management, Marketing</li>\n",
              " <li class=\"list-group-item\"><strong>Niveau(x):</strong> BAC+2, BAC+3, BAC+4, BAC+5</li>\n",
              " <li class=\"list-group-item\"><strong>Expérience:</strong>  1 ans</li>\n",
              " <li class=\"list-group-item\"><strong>Lieu:</strong> Côte d'Ivoire</li>\n",
              " <li class=\"list-group-item\"><strong>Date de publication:</strong> <span style=\"color:#F00;\">03/12/2022</span></li>\n",
              " <li class=\"list-group-item\"><strong>Date limite:</strong> <span style=\"color:#F00;\">12/12/2022</span></li>\n",
              " </ul></body></html>, <html><body><ul class=\"list-group\">\n",
              " <li class=\"list-group-item\"><strong>Poste :</strong> ASSISTANTE DE DIRECTION BILINGUE</li>\n",
              " <li class=\"list-group-item\"><strong>Type d'offre :</strong> Emploi</li>\n",
              " <li class=\"list-group-item\"><strong>Métier(s):</strong> Assistanat de Direction</li>\n",
              " <li class=\"list-group-item\"><strong>Niveau(x):</strong> BAC+2, BAC+3</li>\n",
              " <li class=\"list-group-item\"><strong>Expérience:</strong>  3 ans</li>\n",
              " <li class=\"list-group-item\"><strong>Lieu:</strong> Côte d'Ivoire</li>\n",
              " <li class=\"list-group-item\"><strong>Date de publication:</strong> <span style=\"color:#F00;\">03/12/2022</span></li>\n",
              " <li class=\"list-group-item\"><strong>Date limite:</strong> <span style=\"color:#F00;\">15/12/2022</span></li>\n",
              " </ul></body></html>, <html><body><ul class=\"list-group\">\n",
              " <li class=\"list-group-item\"><strong>Poste :</strong> PROMOTEUR DE VENTE</li>\n",
              " <li class=\"list-group-item\"><strong>Type d'offre :</strong> Interim</li>\n",
              " <li class=\"list-group-item\"><strong>Métier(s):</strong> Commerce/Ventes</li>\n",
              " <li class=\"list-group-item\"><strong>Niveau(x):</strong> CEPE, BEP</li>\n",
              " <li class=\"list-group-item\"><strong>Expérience:</strong> </li>\n",
              " <li class=\"list-group-item\"><strong>Lieu:</strong> Abidjan Sud</li>\n",
              " <li class=\"list-group-item\"><strong>Date de publication:</strong> <span style=\"color:#F00;\">03/12/2022</span></li>\n",
              " <li class=\"list-group-item\"><strong>Date limite:</strong> <span style=\"color:#F00;\">06/12/2022</span></li>\n",
              " </ul></body></html>]"
            ]
          },
          "metadata": {},
          "execution_count": 64
        }
      ]
    },
    {
      "cell_type": "code",
      "source": [
        "for el in allul:\n",
        "  li = el.find_all('li')\n",
        "  for i in range(6):\n",
        "    print(li[i].contents[1])\n",
        "  print(li[6].find_all('span')[0].contents[0])\n",
        "  print(li[7].find_all('span')[0].contents[0])\n",
        "  print(\"---------------------------------------------------\")  "
      ],
      "metadata": {
        "colab": {
          "base_uri": "https://localhost:8080/"
        },
        "id": "n7mOlEl0ASO6",
        "outputId": "3cc84e81-e977-436f-fe84-3a49ca475c0f"
      },
      "execution_count": 73,
      "outputs": [
        {
          "output_type": "stream",
          "name": "stdout",
          "text": [
            " TECHNICO COMMERCIAL\n",
            " Stage\n",
            " Commerce/Ventes, Informatique\n",
            " BAC+2\n",
            " 1 à 2 ans\n",
            " Côte d'Ivoire\n",
            "05/12/2022\n",
            "10/12/2022\n",
            "---------------------------------------------------\n",
            " AGENT DE SECURITE\n",
            " Emploi\n",
            " Sécurité/Défense\n",
            " Terminale, Première, Seconde, BEPC, Troisième, Sixième, BAC, BT\n",
            "  1 ans\n",
            " COCODY ANGRE 9E TRANCHE CITE STAR 12\n",
            "05/12/2022\n",
            "12/12/2022\n",
            "---------------------------------------------------\n",
            " AVIS À CANDIDATURE POUR LE RECRUTEMENT DES DIRECTEURS OU DIRECTEURS GÉNÉRAUX DES ETABLISSEMENTS PUBLICS HOSPITALIERS NATIONAUX SPÉCIALISÉS\n",
            " Emploi (CDD)\n",
            " Economie, Gestion, Médecine/Santé\n",
            " BAC+5, BAC+6, BAC+7 et plus\n",
            " Minimum 10 ans\n",
            " Côte d'Ivoire\n",
            "03/12/2022\n",
            "12/12/2022\n",
            "---------------------------------------------------\n",
            " METALLURGISTE JUNIOR\n",
            " Emploi\n",
            " Chimie\n",
            " BAC+3\n",
            " Minimum 3 ans\n",
            " Ity\n",
            "03/12/2022\n",
            "11/12/2022\n",
            "---------------------------------------------------\n",
            " ASSISTANT QUALITE\n",
            " Emploi\n",
            " Qualité\n",
            " BAC+2, BAC+3\n",
            "  2 ans\n",
            " CLINIQUE LA PROVIDENCE - RUE DU LYCEE TECHNIQUE - COCODY DANGA\n",
            "03/12/2022\n",
            "13/12/2022\n",
            "---------------------------------------------------\n",
            " PHARMACIEN HOSPITALIER\n",
            " Emploi\n",
            " Pharmacie\n",
            " BAC+6\n",
            "  2 ans\n",
            " CLINIQUE LA PROVIDENCE - RUE DU LYCEE TECHNIQUE COCODY DANGA\n",
            "03/12/2022\n",
            "15/12/2022\n",
            "---------------------------------------------------\n",
            " SUPERVISEURE EN IMPRIMERIE\n",
            " Emploi\n",
            " Commerce/Ventes, Communication, Imprimerie\n",
            " BAC+2\n",
            "  2 ans\n",
            " Riviera Palmeraie\n",
            "03/12/2022\n",
            "12/12/2022\n",
            "---------------------------------------------------\n",
            " TECHNICIEN SOLAIRE SACHANT CONDUIRE\n",
            " Emploi\n",
            " Electrotechnique/Electricité, Energétique\n",
            " BAC+2\n",
            "  3 ans\n",
            " Cocody\n",
            "03/12/2022\n",
            "18/12/2022\n",
            "---------------------------------------------------\n",
            " COMPTABLE\n",
            " Emploi\n",
            " Finances/Comptabilité\n",
            " BAC+4\n",
            "  5 ans\n",
            " ABIDJAN/ DABOU/ GRAND BASSAM/ SAN PEDRO\n",
            "03/12/2022\n",
            "10/12/2022\n",
            "---------------------------------------------------\n",
            " STAGIAIRE EN BATIMENT OU TRAVAUX PUBLICS\n",
            " Stage\n",
            " Bâtiment, Génie Civil/Travaux publics\n",
            " BAC+2\n",
            " \n",
            " Côte d'Ivoire\n",
            "03/12/2022\n",
            "12/12/2022\n",
            "---------------------------------------------------\n",
            " CONSEILLERS CLIENTS\n",
            " Emploi\n",
            " Commerce/Ventes, Communication, Marketing\n",
            " BAC+2\n",
            "  1 ans\n",
            " Côte d'Ivoire\n",
            "03/12/2022\n",
            "16/12/2022\n",
            "---------------------------------------------------\n",
            " DISTRIBUTEUR REVENDEUR INDEPENDANT POUR MANIX\n",
            " Freelance\n",
            " Commerce/Ventes\n",
            " BAC+1\n",
            " \n",
            " Côte d'Ivoire\n",
            "03/12/2022\n",
            "20/12/2022\n",
            "---------------------------------------------------\n",
            " BUSINESS DEVELOPER\n",
            " Emploi\n",
            " Commerce et Administration des Entreprises, Commerce/Ventes, Communication, Management, Marketing\n",
            " BAC+2, BAC+3, BAC+4, BAC+5\n",
            "  1 ans\n",
            " Côte d'Ivoire\n",
            "03/12/2022\n",
            "12/12/2022\n",
            "---------------------------------------------------\n",
            " ASSISTANTE DE DIRECTION BILINGUE\n",
            " Emploi\n",
            " Assistanat de Direction\n",
            " BAC+2, BAC+3\n",
            "  3 ans\n",
            " Côte d'Ivoire\n",
            "03/12/2022\n",
            "15/12/2022\n",
            "---------------------------------------------------\n",
            " PROMOTEUR DE VENTE\n",
            " Interim\n",
            " Commerce/Ventes\n",
            " CEPE, BEP\n",
            " \n",
            " Abidjan Sud\n",
            "03/12/2022\n",
            "06/12/2022\n",
            "---------------------------------------------------\n"
          ]
        }
      ]
    },
    {
      "cell_type": "code",
      "source": [],
      "metadata": {
        "id": "5do3CoIdLmSb"
      },
      "execution_count": null,
      "outputs": []
    }
  ]
}